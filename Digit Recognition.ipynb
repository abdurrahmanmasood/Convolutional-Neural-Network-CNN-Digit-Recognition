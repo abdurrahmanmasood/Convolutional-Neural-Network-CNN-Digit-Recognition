{
 "cells": [
  {
   "cell_type": "code",
   "execution_count": 8,
   "id": "7ba89b60-43aa-4849-ace3-4b500fb8dfa8",
   "metadata": {
    "id": "7ba89b60-43aa-4849-ace3-4b500fb8dfa8"
   },
   "outputs": [],
   "source": [
    "import keras\n",
    "from keras.models import Sequential\n",
    "from keras.layers import Dense\n",
    "from tensorflow.keras.utils import to_categorical\n",
    "from keras.layers.convolutional import Conv2D\n",
    "from keras.layers.convolutional import MaxPooling2D\n",
    "from keras.layers import Flatten\n",
    "from keras.datasets import mnist\n",
    "import matplotlib.pyplot as plt"
   ]
  },
  {
   "cell_type": "markdown",
   "id": "bKJZnWLTPtDR",
   "metadata": {
    "id": "bKJZnWLTPtDR"
   },
   "source": [
    "Loading dataset"
   ]
  },
  {
   "cell_type": "code",
   "execution_count": 9,
   "id": "BZTrNO7WPvWA",
   "metadata": {
    "id": "BZTrNO7WPvWA"
   },
   "outputs": [],
   "source": [
    "(x_train, y_train), (x_test, y_test) = mnist.load_data()"
   ]
  },
  {
   "cell_type": "markdown",
   "id": "w3uhKXi8QOSb",
   "metadata": {
    "id": "w3uhKXi8QOSb"
   },
   "source": [
    "Dataset pre-processing"
   ]
  },
  {
   "cell_type": "code",
   "execution_count": 10,
   "id": "BKz4SKrEQwag",
   "metadata": {
    "id": "BKz4SKrEQwag"
   },
   "outputs": [],
   "source": [
    "x_train = x_train.reshape(x_train.shape[0], x_train.shape[1], x_train.shape[2], 1).astype('float32')\n",
    "x_test = x_test.reshape(x_test.shape[0], x_test.shape[1], x_test.shape[2], 1).astype('float32')\n",
    "\n",
    "x_train = x_train / 255\n",
    "x_test = x_test / 255\n",
    "\n",
    "y_train = to_categorical(y_train)\n",
    "y_test = to_categorical(y_test)\n",
    "\n",
    "classes = y_test.shape[1]"
   ]
  },
  {
   "cell_type": "markdown",
   "id": "CmiOdh8YTulT",
   "metadata": {
    "id": "CmiOdh8YTulT"
   },
   "source": [
    " Convolutional Neural Network (CNN) Model"
   ]
  },
  {
   "cell_type": "code",
   "execution_count": 11,
   "id": "C0ldl8jJTwD8",
   "metadata": {
    "id": "C0ldl8jJTwD8"
   },
   "outputs": [],
   "source": [
    "model = Sequential()\n",
    "\n",
    "model.add(Conv2D(16,(5,5), strides=(1,1), activation=\"relu\", input_shape=(28, 28, 1)))\n",
    "model.add(MaxPooling2D(pool_size=(2,2), strides=(2,2)))\n",
    "\n",
    "model.add(Flatten())\n",
    "model.add(Dense(100, activation=\"relu\"))\n",
    "model.add(Dense(classes, activation=\"relu\"))\n",
    "\n",
    "model.compile(optimizer=\"adam\", loss=\"categorical_crossentropy\", metrics=['accuracy'])"
   ]
  },
  {
   "cell_type": "markdown",
   "id": "LwRY4Q3kZK3n",
   "metadata": {
    "id": "LwRY4Q3kZK3n"
   },
   "source": [
    "Model Training"
   ]
  },
  {
   "cell_type": "code",
   "execution_count": 12,
   "id": "AHK4niLrZMo-",
   "metadata": {
    "colab": {
     "base_uri": "https://localhost:8080/"
    },
    "id": "AHK4niLrZMo-",
    "outputId": "f4f047e4-85e8-45ed-b61d-35e34db87885"
   },
   "outputs": [
    {
     "name": "stdout",
     "output_type": "stream",
     "text": [
      "Epoch 1/10\n",
      "300/300 - 2s - loss: nan - accuracy: 0.7522 - val_loss: nan - val_accuracy: 0.8426 - 2s/epoch - 8ms/step\n",
      "Epoch 2/10\n",
      "300/300 - 2s - loss: nan - accuracy: 0.8391 - val_loss: nan - val_accuracy: 0.8473 - 2s/epoch - 5ms/step\n",
      "Epoch 3/10\n",
      "300/300 - 2s - loss: nan - accuracy: 0.8479 - val_loss: nan - val_accuracy: 0.8633 - 2s/epoch - 5ms/step\n",
      "Epoch 4/10\n",
      "300/300 - 1s - loss: nan - accuracy: 0.6192 - val_loss: nan - val_accuracy: 0.7818 - 1s/epoch - 5ms/step\n",
      "Epoch 5/10\n",
      "300/300 - 2s - loss: nan - accuracy: 0.7530 - val_loss: nan - val_accuracy: 0.8238 - 2s/epoch - 5ms/step\n",
      "Epoch 6/10\n",
      "300/300 - 1s - loss: nan - accuracy: 0.7751 - val_loss: 2.2436 - val_accuracy: 0.7159 - 1s/epoch - 5ms/step\n",
      "Epoch 7/10\n",
      "300/300 - 1s - loss: nan - accuracy: 0.8222 - val_loss: nan - val_accuracy: 0.8500 - 1s/epoch - 5ms/step\n",
      "Epoch 8/10\n",
      "300/300 - 1s - loss: nan - accuracy: 0.8450 - val_loss: nan - val_accuracy: 0.8564 - 1s/epoch - 5ms/step\n",
      "Epoch 9/10\n",
      "300/300 - 1s - loss: nan - accuracy: 0.8551 - val_loss: nan - val_accuracy: 0.8631 - 1s/epoch - 5ms/step\n",
      "Epoch 10/10\n",
      "300/300 - 2s - loss: nan - accuracy: 0.8479 - val_loss: nan - val_accuracy: 0.8638 - 2s/epoch - 5ms/step\n"
     ]
    },
    {
     "data": {
      "text/plain": [
       "<keras.callbacks.History at 0x7fd9d027ee90>"
      ]
     },
     "execution_count": 12,
     "metadata": {},
     "output_type": "execute_result"
    }
   ],
   "source": [
    "model.fit(x_train, y_train, validation_data=(x_test, y_test), epochs=10, batch_size=200, verbose=2)"
   ]
  },
  {
   "cell_type": "code",
   "execution_count": 21,
   "id": "WB8MGehvZr51",
   "metadata": {
    "colab": {
     "base_uri": "https://localhost:8080/"
    },
    "id": "WB8MGehvZr51",
    "outputId": "e316231b-51dc-419e-e0ee-f4bb0ccd188d"
   },
   "outputs": [
    {
     "name": "stdout",
     "output_type": "stream",
     "text": [
      "Acurracy: 0.8637999892234802\n",
      "Error: 0.13620001077651978\n"
     ]
    }
   ],
   "source": [
    "score = model.evaluate(x_test, y_test, verbose=0)\n",
    "print(\"Acurracy:\", score[1])\n",
    "print(\"Error:\", (1 - score[1]))"
   ]
  }
 ],
 "metadata": {
  "accelerator": "GPU",
  "colab": {
   "collapsed_sections": [],
   "name": "Digit Recognition.ipynb",
   "provenance": []
  },
  "kernelspec": {
   "display_name": "Python 3 (ipykernel)",
   "language": "python",
   "name": "python3"
  },
  "language_info": {
   "codemirror_mode": {
    "name": "ipython",
    "version": 3
   },
   "file_extension": ".py",
   "mimetype": "text/x-python",
   "name": "python",
   "nbconvert_exporter": "python",
   "pygments_lexer": "ipython3",
   "version": "3.8.10"
  }
 },
 "nbformat": 4,
 "nbformat_minor": 5
}
